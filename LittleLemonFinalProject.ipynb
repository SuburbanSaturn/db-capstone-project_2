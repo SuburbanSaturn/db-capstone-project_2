{
 "cells": [
  {
   "cell_type": "code",
   "execution_count": 1,
   "id": "92597ea4",
   "metadata": {},
   "outputs": [],
   "source": [
    "import mysql.connector as connector"
   ]
  },
  {
   "cell_type": "code",
   "execution_count": 3,
   "id": "13a1a4fd",
   "metadata": {},
   "outputs": [
    {
     "name": "stdout",
     "output_type": "stream",
     "text": [
      "connection sucessful\n"
     ]
    }
   ],
   "source": [
    "# storing connection credentials to variables so that updates can occur outside of connection line\n",
    "user = \"yourusername\"\n",
    "password = \"yourpassword\"\n",
    "host = \"127.0.0.1\"\n",
    "port = \"3306\"\n",
    "database = \"litlemdb\"\n",
    "\n",
    "# Establishing connection by passing cred variables to connect function, handling error with try with: \n",
    "try:\n",
    "    connection = connector.connect(\n",
    "        user = user,\n",
    "        password = password,\n",
    "        host = host,\n",
    "        port = port,\n",
    "        database = database\n",
    "    )\n",
    "    print(\"connection sucessful\")\n",
    "\n",
    "except connector.Error as error:\n",
    "    print(f\"error while connecting to Mysql; {error}\")"
   ]
  },
  {
   "cell_type": "code",
   "execution_count": 4,
   "id": "bc37c13a",
   "metadata": {},
   "outputs": [
    {
     "name": "stdout",
     "output_type": "stream",
     "text": [
      "('Address',)\n",
      "('Booking',)\n",
      "('Customer',)\n",
      "('Menu',)\n",
      "('Order Menu Items',)\n",
      "('Orders',)\n",
      "('ordersview',)\n",
      "('Staff',)\n"
     ]
    }
   ],
   "source": [
    "# running test query to ensure that connection to mysql occured\n",
    "show_table_query = \"\"\" SHOW TABLES \"\"\"\n",
    "\n",
    "# store connection to cursor object\n",
    "cursor = connection.cursor()\n",
    "\n",
    "# execute the query via cursor object\n",
    "cursor.execute(show_table_query)\n",
    "results = cursor.fetchall()\n",
    "\n",
    "# printing table to ensure we connected to the right database and are pulling the correct tables\n",
    "for result in results:\n",
    "    print(result)"
   ]
  },
  {
   "cell_type": "code",
   "execution_count": 14,
   "id": "25b2d244",
   "metadata": {},
   "outputs": [
    {
     "name": "stdout",
     "output_type": "stream",
     "text": [
      "Name: John Doe, Email: john.doe@example.com, Contact: -4135, Bill Amount: 66\n",
      "Name: Tom Brown, Email: tom.brown@example.com, Contact: -8913, Bill Amount: 78\n",
      "Name: Laura Davis, Email: laura.davis@example.com, Contact: -9135, Bill Amount: 66\n",
      "Name: Emma Hernandez, Email: emma.hernandez@example.com, Contact: -2913, Bill Amount: 100\n"
     ]
    }
   ],
   "source": [
    "sql_query_join = \"\"\" \n",
    "SELECT\n",
    "CONCAT(c.CustomerFirstName, \" \", c.CustomerLastName) as CustomerFullName \n",
    ", c.Email\n",
    ", c.ContactNumber\n",
    ", o.TotalPrice\n",
    "FROM Customer c\n",
    "JOIN Booking b ON c.CustomerID = b.CustomerID\n",
    "JOIN Orders o ON b.BookingID = o.BookingID\n",
    "WHERE o.Totalprice > 60;\n",
    "\"\"\"\n",
    "# execute the query\n",
    "cursor.execute(sql_query_join)\n",
    "\n",
    "# fetch the results\n",
    "results = cursor.fetchall()\n",
    "\n",
    "\n",
    "for result in results:\n",
    "    print(f\"Name: {result[0]}, Email: {result[1]}, Contact: {result[2]}, Bill Amount: {result[3]}\")"
   ]
  },
  {
   "cell_type": "code",
   "execution_count": null,
   "id": "8555d62d",
   "metadata": {},
   "outputs": [],
   "source": []
  }
 ],
 "metadata": {
  "kernelspec": {
   "display_name": "Python 3 (ipykernel)",
   "language": "python",
   "name": "python3"
  },
  "language_info": {
   "codemirror_mode": {
    "name": "ipython",
    "version": 3
   },
   "file_extension": ".py",
   "mimetype": "text/x-python",
   "name": "python",
   "nbconvert_exporter": "python",
   "pygments_lexer": "ipython3",
   "version": "3.11.2"
  }
 },
 "nbformat": 4,
 "nbformat_minor": 5
}
